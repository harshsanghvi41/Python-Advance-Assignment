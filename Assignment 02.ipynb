{
 "cells": [
  {
   "cell_type": "markdown",
   "id": "d08362bd",
   "metadata": {},
   "source": [
    "Q1. What is the relationship between classes and modules?\n",
    "\n",
    "Ans: The difference between a class and a module in python is that a class is used to define a blueprint for a given object, whereas a module is used to reuse a given piece of code inside another program."
   ]
  },
  {
   "cell_type": "markdown",
   "id": "da43daed",
   "metadata": {},
   "source": [
    "Q2. How do you make instances and classes?\n",
    "\n",
    "Ans: Use the class name to create a new instance    \n",
    "Call ClassName() to create a new instance of the class ClassName . To pass parameters to the class instance, the class must have an __init__() method. Pass the parameters in the constructor of the class."
   ]
  },
  {
   "cell_type": "markdown",
   "id": "f35b98f2",
   "metadata": {},
   "source": [
    "Q3. Where and how should be class attributes created?\n",
    "\n",
    "Ans: Inside a class, you should qualify all references to class attributes with the class name. for example, MyClass.attr1 . All references to instance attributes should be qualified with the self variable; for example, self.\n"
   ]
  },
  {
   "cell_type": "markdown",
   "id": "a957d76c",
   "metadata": {},
   "source": [
    "Q4. Where and how are instance attributes created?\n",
    "\n",
    "Ans: Instance attributes are defined in the constructor. Defined directly inside a class. Defined inside a constructor using the self parameter."
   ]
  },
  {
   "cell_type": "markdown",
   "id": "5c2b9d3c",
   "metadata": {},
   "source": [
    "Q5. What does the term &quot;self&quot; in a Python class mean?\n",
    "\n",
    "Ans: self is class constructer which is used inside the __init__ method. "
   ]
  },
  {
   "cell_type": "markdown",
   "id": "c3001b78",
   "metadata": {},
   "source": [
    "Q6. How does a Python class handle operator overloading?\n",
    "\n",
    "Ans: The operator overloading in Python means provide extended meaning beyond their predefined operational meaning. Such as, we use the \"+\" operator for adding two integers as well as joining two strings or merging two lists. We can achieve this as the \"+\" operator is overloaded by the \"int\" class and \"str\" class."
   ]
  },
  {
   "cell_type": "markdown",
   "id": "6f64a97e",
   "metadata": {},
   "source": [
    "Q7. When do you consider allowing operator overloading of your classes?\n",
    "\n",
    "Ans: Consider we have two objects which are a physical representation of a class (user-defined data type) and we have to add two objects with binary ‘+’ operator it throws an error, because compiler don’t know how to add two objects. So we define a method for an operator and that process is called operator overloading. We can overload all existing operators but we can’t create a new operator. To perform operator overloading, Python provides some special function or magic function that is automatically invoked when it is associated with that particular operator."
   ]
  },
  {
   "cell_type": "markdown",
   "id": "58d69e6e",
   "metadata": {},
   "source": [
    "Q8. What is the most popular form of operator overloading?\n",
    "\n",
    "Ans: A very popular and convenient example is the Addition (+) operator. Just think how the '+' operator operates on two numbers and the same operator operates on two strings. It performs “Addition” on numbers whereas it performs “Concatenation” on strings."
   ]
  },
  {
   "cell_type": "markdown",
   "id": "09b78c6d",
   "metadata": {},
   "source": [
    "Q9. What are the two most important concepts to grasp in order to comprehend Python OOP code?\n",
    "\n",
    "Ans: Inheritance and polymorphism"
   ]
  }
 ],
 "metadata": {
  "kernelspec": {
   "display_name": "Python 3",
   "language": "python",
   "name": "python3"
  },
  "language_info": {
   "codemirror_mode": {
    "name": "ipython",
    "version": 3
   },
   "file_extension": ".py",
   "mimetype": "text/x-python",
   "name": "python",
   "nbconvert_exporter": "python",
   "pygments_lexer": "ipython3",
   "version": "3.8.8"
  }
 },
 "nbformat": 4,
 "nbformat_minor": 5
}
