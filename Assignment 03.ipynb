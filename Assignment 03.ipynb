{
 "cells": [
  {
   "cell_type": "markdown",
   "id": "54d10d14",
   "metadata": {},
   "source": [
    "1. What is the concept of an abstract superclass?\n",
    "\n",
    "Ans: A class is called an Abstract class if it contains one or more abstract methods. An abstract method is a method that is declared, but contains no implementation. Abstract classes may not be instantiated, and its abstract methods must be implemented by its subclasses."
   ]
  },
  {
   "cell_type": "markdown",
   "id": "b454cad1",
   "metadata": {},
   "source": [
    "2. What happens when a class statement&#39;s top level contains a basic assignment statement?\n",
    "\n",
    "Ans: "
   ]
  },
  {
   "cell_type": "markdown",
   "id": "d4073ab2",
   "metadata": {},
   "source": [
    "3. Why does a class need to manually call a superclass&#39;s __init__ method?\n",
    "\n",
    "Ans: super() lets you avoid referring to the base class explicitly"
   ]
  },
  {
   "cell_type": "markdown",
   "id": "1c565ee2",
   "metadata": {},
   "source": [
    "4. How can you augment, instead of completely replacing, an inherited method?"
   ]
  },
  {
   "cell_type": "code",
   "execution_count": 1,
   "id": "33c5bf11",
   "metadata": {},
   "outputs": [
    {
     "name": "stdout",
     "output_type": "stream",
     "text": [
      "**********\n"
     ]
    },
    {
     "data": {
      "text/plain": [
       "<map at 0x2286c6340a0>"
      ]
     },
     "execution_count": 1,
     "metadata": {},
     "output_type": "execute_result"
    }
   ],
   "source": [
    "class Spam:\n",
    "    def update(self):\n",
    "        print('updating spam!')\n",
    "\n",
    "class SpamLite(Spam):\n",
    "    def update(self):\n",
    "        print('this spam is lite!')\n",
    "        Spam.update(self)\n",
    "\n",
    "def poison(spam):\n",
    "    tmp = spam.update # it is a bound method that doesn't take any arguments\n",
    "    def newUpdate():\n",
    "        print ('this spam has been poisoned!')\n",
    "        tmp()\n",
    "    spam.update = newUpdate\n",
    "\n",
    "\n",
    "from operator import methodcaller    \n",
    "L = [Spam(), SpamLite()]\n",
    "map(methodcaller('update'), L)\n",
    "map(poison, L)\n",
    "print (\"*\"*10)\n",
    "map(methodcaller('update'), L)"
   ]
  },
  {
   "cell_type": "markdown",
   "id": "06dea207",
   "metadata": {},
   "source": [
    "5. How is the local scope of a class different from that of a function?\n",
    "\n",
    "Ans: Declaring a variable in a class (outside of a function): all class functions can access it (basically a public variable)    \n",
    "\n",
    "Declaring a variable inside a function inside a class: only that function can access it (it's in that function's scope)"
   ]
  },
  {
   "cell_type": "code",
   "execution_count": null,
   "id": "3c25031d",
   "metadata": {},
   "outputs": [],
   "source": []
  }
 ],
 "metadata": {
  "kernelspec": {
   "display_name": "Python 3 (ipykernel)",
   "language": "python",
   "name": "python3"
  },
  "language_info": {
   "codemirror_mode": {
    "name": "ipython",
    "version": 3
   },
   "file_extension": ".py",
   "mimetype": "text/x-python",
   "name": "python",
   "nbconvert_exporter": "python",
   "pygments_lexer": "ipython3",
   "version": "3.8.12"
  }
 },
 "nbformat": 4,
 "nbformat_minor": 5
}
